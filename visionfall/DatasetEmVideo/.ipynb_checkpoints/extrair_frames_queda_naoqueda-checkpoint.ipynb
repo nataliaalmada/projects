{
 "cells": [
  {
   "cell_type": "markdown",
   "id": "1f79d630",
   "metadata": {},
   "source": [
    "# 🎞️ Extração de Frames de Vídeos (Queda e Não Queda)\n",
    "Este notebook extrai frames dos vídeos de **queda** e **não queda**, salva em `images/all/` e gera arquivos `.txt` correspondentes em `labels/all/`.\n",
    "\n",
    "- Vídeos de **não queda** → `.txt` vazios\n",
    "- Vídeos de **queda** → `.txt` vazios (você irá anotar manualmente depois)"
   ]
  },
  {
   "cell_type": "code",
   "execution_count": null,
   "id": "e7f869bd",
   "metadata": {},
   "outputs": [],
   "source": [
    "# Configuração de caminhos\n",
    "from pathlib import Path\n",
    "import os\n",
    "import cv2\n",
    "\n",
    "# Caminhos dos vídeos\n",
    "queda_dir = Path('C:/Users/Nat Natalia/Desktop/TCC2/MEU DATASET EM VÍDEO/Queda')\n",
    "notqueda_dir = Path('C:/Users/Nat Natalia/Desktop/TCC2/MEU DATASET EM VÍDEO/Not Queda')\n",
    "\n",
    "# Saída\n",
    "output_img_dir = Path('C:/Users/Nat Natalia/Desktop/TCC2/dataset/images/all')\n",
    "output_lbl_dir = Path('C:/Users/Nat Natalia/Desktop/TCC2/dataset/labels/all')\n",
    "output_img_dir.mkdir(parents=True, exist_ok=True)\n",
    "output_lbl_dir.mkdir(parents=True, exist_ok=True)"
   ]
  },
  {
   "cell_type": "code",
   "execution_count": null,
   "id": "f0075a37",
   "metadata": {},
   "outputs": [],
   "source": [
    "# Função para extrair frames\n",
    "def extrair_frames(video_path, prefixo, label_vazia=True, frame_interval=2):\n",
    "    cap = cv2.VideoCapture(str(video_path))\n",
    "    fps = cap.get(cv2.CAP_PROP_FPS)\n",
    "    total = int(cap.get(cv2.CAP_PROP_FRAME_COUNT))\n",
    "    frame_id = 0\n",
    "    saved_id = 0\n",
    "\n",
    "    while cap.isOpened():\n",
    "        ret, frame = cap.read()\n",
    "        if not ret:\n",
    "            break\n",
    "        if frame_id % frame_interval == 0:\n",
    "            img_name = f'{prefixo}_{saved_id:05d}.jpg'\n",
    "            txt_name = f'{prefixo}_{saved_id:05d}.txt'\n",
    "            cv2.imwrite(str(output_img_dir / img_name), frame)\n",
    "            with open(output_lbl_dir / txt_name, 'w') as f:\n",
    "                f.write('')  # vazio para YOLO interpretar como sem objeto ou anotar depois\n",
    "            saved_id += 1\n",
    "        frame_id += 1\n",
    "    cap.release()"
   ]
  },
  {
   "cell_type": "code",
   "execution_count": null,
   "id": "e863e474",
   "metadata": {},
   "outputs": [],
   "source": [
    "# 🔁 Processar vídeos de NÃO QUEDA\n",
    "for video in notqueda_dir.glob('*.mp4'):\n",
    "    prefixo = video.stem.replace(' ', '').replace('-', '').lower()\n",
    "    print(f'Not Queda → {video.name}')\n",
    "    extrair_frames(video, prefixo=prefixo, label_vazia=True)"
   ]
  },
  {
   "cell_type": "code",
   "execution_count": null,
   "id": "6e9f1fc7",
   "metadata": {},
   "outputs": [],
   "source": [
    "# 🔁 Processar vídeos de QUEDA\n",
    "for video in queda_dir.glob('*.mp4'):\n",
    "    prefixo = video.stem.replace(' ', '').replace('-', '').lower()\n",
    "    print(f'Queda → {video.name}')\n",
    "    extrair_frames(video, prefixo=prefixo, label_vazia=False)"
   ]
  }
 ],
 "metadata": {},
 "nbformat": 4,
 "nbformat_minor": 5
}
